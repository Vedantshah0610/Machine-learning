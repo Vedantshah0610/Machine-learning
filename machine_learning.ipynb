{
  "nbformat": 4,
  "nbformat_minor": 0,
  "metadata": {
    "colab": {
      "name": "machine_learning.ipynb",
      "provenance": [],
      "collapsed_sections": [],
      "include_colab_link": true
    },
    "kernelspec": {
      "name": "python3",
      "display_name": "Python 3"
    }
  },
  "cells": [
    {
      "cell_type": "markdown",
      "metadata": {
        "id": "view-in-github",
        "colab_type": "text"
      },
      "source": [
        "<a href=\"https://colab.research.google.com/github/Vedantshah0610/Machine-learning/blob/master/machine_learning.ipynb\" target=\"_parent\"><img src=\"https://colab.research.google.com/assets/colab-badge.svg\" alt=\"Open In Colab\"/></a>"
      ]
    },
    {
      "cell_type": "code",
      "metadata": {
        "id": "MwQucrl4JwNX",
        "colab_type": "code",
        "colab": {}
      },
      "source": [
        "import tensorflow as tf\n",
        "import numpy as np \n",
        "import pandas as pd\n",
        "from keras.utils import to_categorical\n",
        "import matplotlib.pyplot as plt"
      ],
      "execution_count": null,
      "outputs": []
    },
    {
      "cell_type": "markdown",
      "metadata": {
        "id": "An9J-Z2ku07B",
        "colab_type": "text"
      },
      "source": [
        ""
      ]
    },
    {
      "cell_type": "markdown",
      "metadata": {
        "id": "o6xLniIfX1Hf",
        "colab_type": "text"
      },
      "source": [
        ""
      ]
    },
    {
      "cell_type": "code",
      "metadata": {
        "id": "-2wmSAjjJ3uv",
        "colab_type": "code",
        "colab": {
          "base_uri": "https://localhost:8080/",
          "height": 402
        },
        "outputId": "adf2de8d-ffec-446a-d588-46a43a5b4c7a"
      },
      "source": [
        "dataset = pd.read_csv('/content/machine_learning.csv')\n",
        "df = dataset\n",
        "df"
      ],
      "execution_count": null,
      "outputs": [
        {
          "output_type": "execute_result",
          "data": {
            "text/html": [
              "<div>\n",
              "<style scoped>\n",
              "    .dataframe tbody tr th:only-of-type {\n",
              "        vertical-align: middle;\n",
              "    }\n",
              "\n",
              "    .dataframe tbody tr th {\n",
              "        vertical-align: top;\n",
              "    }\n",
              "\n",
              "    .dataframe thead th {\n",
              "        text-align: right;\n",
              "    }\n",
              "</style>\n",
              "<table border=\"1\" class=\"dataframe\">\n",
              "  <thead>\n",
              "    <tr style=\"text-align: right;\">\n",
              "      <th></th>\n",
              "      <th>age</th>\n",
              "      <th>sex</th>\n",
              "      <th>bmi</th>\n",
              "      <th>children</th>\n",
              "      <th>smoker</th>\n",
              "      <th>region</th>\n",
              "      <th>charges</th>\n",
              "    </tr>\n",
              "  </thead>\n",
              "  <tbody>\n",
              "    <tr>\n",
              "      <th>0</th>\n",
              "      <td>19</td>\n",
              "      <td>female</td>\n",
              "      <td>27.900</td>\n",
              "      <td>0</td>\n",
              "      <td>yes</td>\n",
              "      <td>southwest</td>\n",
              "      <td>16884.92400</td>\n",
              "    </tr>\n",
              "    <tr>\n",
              "      <th>1</th>\n",
              "      <td>18</td>\n",
              "      <td>male</td>\n",
              "      <td>33.770</td>\n",
              "      <td>1</td>\n",
              "      <td>no</td>\n",
              "      <td>southeast</td>\n",
              "      <td>1725.55230</td>\n",
              "    </tr>\n",
              "    <tr>\n",
              "      <th>2</th>\n",
              "      <td>28</td>\n",
              "      <td>male</td>\n",
              "      <td>33.000</td>\n",
              "      <td>3</td>\n",
              "      <td>no</td>\n",
              "      <td>southeast</td>\n",
              "      <td>4449.46200</td>\n",
              "    </tr>\n",
              "    <tr>\n",
              "      <th>3</th>\n",
              "      <td>33</td>\n",
              "      <td>male</td>\n",
              "      <td>22.705</td>\n",
              "      <td>0</td>\n",
              "      <td>no</td>\n",
              "      <td>northwest</td>\n",
              "      <td>21984.47061</td>\n",
              "    </tr>\n",
              "    <tr>\n",
              "      <th>4</th>\n",
              "      <td>32</td>\n",
              "      <td>male</td>\n",
              "      <td>28.880</td>\n",
              "      <td>0</td>\n",
              "      <td>no</td>\n",
              "      <td>northwest</td>\n",
              "      <td>3866.85520</td>\n",
              "    </tr>\n",
              "    <tr>\n",
              "      <th>...</th>\n",
              "      <td>...</td>\n",
              "      <td>...</td>\n",
              "      <td>...</td>\n",
              "      <td>...</td>\n",
              "      <td>...</td>\n",
              "      <td>...</td>\n",
              "      <td>...</td>\n",
              "    </tr>\n",
              "    <tr>\n",
              "      <th>1333</th>\n",
              "      <td>50</td>\n",
              "      <td>male</td>\n",
              "      <td>30.970</td>\n",
              "      <td>3</td>\n",
              "      <td>no</td>\n",
              "      <td>northwest</td>\n",
              "      <td>10600.54830</td>\n",
              "    </tr>\n",
              "    <tr>\n",
              "      <th>1334</th>\n",
              "      <td>18</td>\n",
              "      <td>female</td>\n",
              "      <td>31.920</td>\n",
              "      <td>0</td>\n",
              "      <td>no</td>\n",
              "      <td>northeast</td>\n",
              "      <td>2205.98080</td>\n",
              "    </tr>\n",
              "    <tr>\n",
              "      <th>1335</th>\n",
              "      <td>18</td>\n",
              "      <td>female</td>\n",
              "      <td>36.850</td>\n",
              "      <td>0</td>\n",
              "      <td>no</td>\n",
              "      <td>southeast</td>\n",
              "      <td>1629.83350</td>\n",
              "    </tr>\n",
              "    <tr>\n",
              "      <th>1336</th>\n",
              "      <td>21</td>\n",
              "      <td>female</td>\n",
              "      <td>25.800</td>\n",
              "      <td>0</td>\n",
              "      <td>no</td>\n",
              "      <td>southwest</td>\n",
              "      <td>2007.94500</td>\n",
              "    </tr>\n",
              "    <tr>\n",
              "      <th>1337</th>\n",
              "      <td>61</td>\n",
              "      <td>female</td>\n",
              "      <td>29.070</td>\n",
              "      <td>0</td>\n",
              "      <td>yes</td>\n",
              "      <td>northwest</td>\n",
              "      <td>29141.36030</td>\n",
              "    </tr>\n",
              "  </tbody>\n",
              "</table>\n",
              "<p>1338 rows × 7 columns</p>\n",
              "</div>"
            ],
            "text/plain": [
              "      age     sex     bmi  children smoker     region      charges\n",
              "0      19  female  27.900         0    yes  southwest  16884.92400\n",
              "1      18    male  33.770         1     no  southeast   1725.55230\n",
              "2      28    male  33.000         3     no  southeast   4449.46200\n",
              "3      33    male  22.705         0     no  northwest  21984.47061\n",
              "4      32    male  28.880         0     no  northwest   3866.85520\n",
              "...   ...     ...     ...       ...    ...        ...          ...\n",
              "1333   50    male  30.970         3     no  northwest  10600.54830\n",
              "1334   18  female  31.920         0     no  northeast   2205.98080\n",
              "1335   18  female  36.850         0     no  southeast   1629.83350\n",
              "1336   21  female  25.800         0     no  southwest   2007.94500\n",
              "1337   61  female  29.070         0    yes  northwest  29141.36030\n",
              "\n",
              "[1338 rows x 7 columns]"
            ]
          },
          "metadata": {
            "tags": []
          },
          "execution_count": 48
        }
      ]
    },
    {
      "cell_type": "markdown",
      "metadata": {
        "id": "7hWY7UY3vZl3",
        "colab_type": "text"
      },
      "source": [
        "# Data Visualizations"
      ]
    },
    {
      "cell_type": "code",
      "metadata": {
        "id": "KKA46d7QzzNN",
        "colab_type": "code",
        "colab": {
          "base_uri": "https://localhost:8080/",
          "height": 282
        },
        "outputId": "bc8f1494-c050-4e66-b6bd-89454d232223"
      },
      "source": [
        "age = df[\"age\"]\n",
        "plt.scatter(age,charges)"
      ],
      "execution_count": null,
      "outputs": [
        {
          "output_type": "execute_result",
          "data": {
            "text/plain": [
              "<matplotlib.collections.PathCollection at 0x7f74cab4d0f0>"
            ]
          },
          "metadata": {
            "tags": []
          },
          "execution_count": 49
        },
        {
          "output_type": "display_data",
          "data": {
            "image/png": "[encoded data removed]",
            "text/plain": [
              "<Figure size 432x288 with 1 Axes>"
            ]
          },
          "metadata": {
            "tags": [],
            "needs_background": "light"
          }
        }
      ]
    },
    {
      "cell_type": "code",
      "metadata": {
        "id": "NkJmbP6Xzg9V",
        "colab_type": "code",
        "colab": {
          "base_uri": "https://localhost:8080/",
          "height": 282
        },
        "outputId": "eb2eb44b-7933-4dfe-fe15-080f29fce6a8"
      },
      "source": [
        "bmi = df[\"bmi\"]\n",
        "plt.scatter(bmi,charges)"
      ],
      "execution_count": null,
      "outputs": [
        {
          "output_type": "execute_result",
          "data": {
            "text/plain": [
              "<matplotlib.collections.PathCollection at 0x7f74caaac2b0>"
            ]
          },
          "metadata": {
            "tags": []
          },
          "execution_count": 50
        },
        {
          "output_type": "display_data",
          "data": {
            "image/png": "[encoded data removed]",
            "text/plain": [
              "<Figure size 432x288 with 1 Axes>"
            ]
          },
          "metadata": {
            "tags": [],
            "needs_background": "light"
          }
        }
      ]
    },
    {
      "cell_type": "code",
      "metadata": {
        "id": "UXQSFF40wuGd",
        "colab_type": "code",
        "colab": {}
      },
      "source": [
        "smoker = list(df['smoker'])\n",
        "smoker =list(map(lambda x:1 if x == \"yes\" else 0,smoker))\n",
        "#plt.scatterplot)\n",
        "charges = list(df[\"charges\"])"
      ],
      "execution_count": null,
      "outputs": []
    },
    {
      "cell_type": "code",
      "metadata": {
        "id": "oMkzaIHuyLwH",
        "colab_type": "code",
        "colab": {
          "base_uri": "https://localhost:8080/",
          "height": 282
        },
        "outputId": "2f40f1cc-4701-40b6-b61d-954b827c153e"
      },
      "source": [
        "plt.scatter(smoker,charges)"
      ],
      "execution_count": null,
      "outputs": [
        {
          "output_type": "execute_result",
          "data": {
            "text/plain": [
              "<matplotlib.collections.PathCollection at 0x7f74caa94630>"
            ]
          },
          "metadata": {
            "tags": []
          },
          "execution_count": 52
        },
        {
          "output_type": "display_data",
          "data": {
            "image/png": "[encoded data removed]",
            "text/plain": [
              "<Figure size 432x288 with 1 Axes>"
            ]
          },
          "metadata": {
            "tags": [],
            "needs_background": "light"
          }
        }
      ]
    },
    {
      "cell_type": "code",
      "metadata": {
        "id": "IXEqdEKjvwR5",
        "colab_type": "code",
        "colab": {
          "base_uri": "https://localhost:8080/",
          "height": 936
        },
        "outputId": "a16b4ae1-8d9e-4bca-e172-f2551d911f1f"
      },
      "source": [
        "import matplotlib.pyplot as plt\n",
        "\n",
        "f = plt.figure(figsize=(19, 15))\n",
        "plt.matshow(df.corr(), fignum=f.number)\n",
        "plt.xticks(range(df.shape[1]), df.columns, fontsize=14, rotation=45)\n",
        "plt.yticks(range(df.shape[1]), df.columns, fontsize=14)\n",
        "cb = plt.colorbar()\n",
        "cb.ax.tick_params(labelsize=14)\n",
        "plt.title('Correlation Matrix', fontsize=16);"
      ],
      "execution_count": null,
      "outputs": [
        {
          "output_type": "display_data",
          "data": {
            "image/png": "[encoded data removed]",
            "text/plain": [
              "<Figure size 1368x1080 with 2 Axes>"
            ]
          },
          "metadata": {
            "tags": [],
            "needs_background": "light"
          }
        }
      ]
    },
    {
      "cell_type": "code",
      "metadata": {
        "id": "g86xvR6eNWr6",
        "colab_type": "code",
        "colab": {}
      },
      "source": [
        "#X = dataset.iloc[:,1:6].values\n",
        "#y = dataset.iloc[:,6].values\n",
        "z=dataset.iloc[2]\n",
        "\n",
        "from sklearn.preprocessing import LabelEncoder\n",
        "\n",
        "encoder = LabelEncoder()\n",
        "#y1 = encoder.fit_transform(z)\n",
        "df['sex'] = df['sex'].apply({'male':0,'female':1}.get) \n",
        "df['smoker'] = df['smoker'].apply({'yes':1, 'no':0}.get)\n",
        "df['region'] = df['region'].apply({'southwest':1, 'southeast':2, 'northwest':3, 'northeast':4}.get)\n",
        "\n",
        "#gender=encoder.fit_transform(df['sex'])\n",
        "#smoker=encoder.fit_transform(df['smoker'])\n",
        "#region=encoder.fit_transform(df['region'])\n",
        "#print(gender)\n",
        "#print(smoker)\n",
        "#print(region)\n",
        "#df['smoker']=smoker\n",
        "#df['sex']=gender\n",
        "#df['region']=region\n",
        "#X = dataset.iloc[:,1:6].values\n",
        "#y = dataset.iloc[:,6].values\n",
        "X = df[['age', 'sex', 'bmi', 'children','smoker','region']]\n",
        "y = df['charges']\n",
        "#print(y)\n",
        "#Y = pd.get_dummies(y1).values\n",
        "#print(y1)"
      ],
      "execution_count": null,
      "outputs": []
    },
    {
      "cell_type": "code",
      "metadata": {
        "id": "_BkFr9VWNZpN",
        "colab_type": "code",
        "colab": {
          "base_uri": "https://localhost:8080/",
          "height": 252
        },
        "outputId": "2be8eace-5ffd-44e6-9306-0360af31f5a7"
      },
      "source": [
        "from sklearn.model_selection import train_test_split\n",
        "\n",
        "X_train,X_test,y_train,y_test = train_test_split(X,y,test_size=0.2, random_state=2)\n",
        "print(X_test)\n",
        "#, gender_train,gender_test,smoker_train,smoker_test,region_train,region_test"
      ],
      "execution_count": null,
      "outputs": [
        {
          "output_type": "stream",
          "text": [
            "      age  sex     bmi  children  smoker  region\n",
            "17     23    0  23.845         0       0       4\n",
            "1091   55    1  29.830         0       0       4\n",
            "273    50    0  27.455         1       0       4\n",
            "270    18    0  29.370         1       0       2\n",
            "874    44    0  21.850         3       0       4\n",
            "...   ...  ...     ...       ...     ...     ...\n",
            "232    19    1  17.800         0       0       1\n",
            "323    57    0  40.945         0       0       4\n",
            "1337   61    1  29.070         0       1       3\n",
            "1066   48    0  37.290         2       0       2\n",
            "966    51    0  24.795         2       1       3\n",
            "\n",
            "[268 rows x 6 columns]\n"
          ],
          "name": "stdout"
        }
      ]
    },
    {
      "cell_type": "code",
      "metadata": {
        "id": "QO0Uf0riNcYl",
        "colab_type": "code",
        "colab": {
          "base_uri": "https://localhost:8080/",
          "height": 319
        },
        "outputId": "d6b9958a-88fe-4659-ada3-561dbbea676a"
      },
      "source": [
        "from keras.models import Sequential\n",
        "from keras.layers import Dense\n",
        "from keras.optimizers  import SGD, Adam\n",
        "\n",
        "model = Sequential()\n",
        "model.add(Dense(10, input_shape=(6,), activation='relu'))\n",
        "model.add(Dense(10, activation='relu'))\n",
        "model.add(Dense(10, activation='relu'))\n",
        "model.add(Dense(3, activation='relu'))\n",
        "model.add(Dense(1, activation='softmax'))\n",
        "model.compile(Adam(lr=0.04), loss='categorical_crossentropy', metrics=['accuracy'])\n",
        "\n",
        "'''model.add(Dense(6, input_shape=(6,), activation='tanh'))\n",
        "model.add(Dense(10, activation='tanh'))\n",
        "model.add(Dense(10, activation='tanh'))\n",
        "model.add(Dense(3, activation='softmax'))\n",
        "model.add(Dense(1, activation='softmax'))\n",
        "\n",
        "model.compile(Adam(lr=0.04), 'categorical_crossentropy', metrics=['accuracy'])'''\n",
        "\n",
        "model.summary()"
      ],
      "execution_count": null,
      "outputs": [
        {
          "output_type": "stream",
          "text": [
            "Model: \"sequential_3\"\n",
            "_________________________________________________________________\n",
            "Layer (type)                 Output Shape              Param #   \n",
            "=================================================================\n",
            "dense_15 (Dense)             (None, 10)                70        \n",
            "_________________________________________________________________\n",
            "dense_16 (Dense)             (None, 10)                110       \n",
            "_________________________________________________________________\n",
            "dense_17 (Dense)             (None, 10)                110       \n",
            "_________________________________________________________________\n",
            "dense_18 (Dense)             (None, 3)                 33        \n",
            "_________________________________________________________________\n",
            "dense_19 (Dense)             (None, 1)                 4         \n",
            "=================================================================\n",
            "Total params: 327\n",
            "Trainable params: 327\n",
            "Non-trainable params: 0\n",
            "_________________________________________________________________\n"
          ],
          "name": "stdout"
        }
      ]
    },
    {
      "cell_type": "code",
      "metadata": {
        "id": "XcMYwb4ftWM4",
        "colab_type": "code",
        "colab": {
          "base_uri": "https://localhost:8080/",
          "height": 269
        },
        "outputId": "50068a42-3b0c-438f-fa82-d57867e06539"
      },
      "source": [
        "print(X_train)\n",
        "print(\"-----------\")\n",
        "#print(gender_train)\n",
        "#print(smoker_train)\n",
        "#print(region_train)"
      ],
      "execution_count": null,
      "outputs": [
        {
          "output_type": "stream",
          "text": [
            "      age  sex     bmi  children  smoker  region\n",
            "882    21    1  22.135         0       0       4\n",
            "505    37    0  30.875         3       0       3\n",
            "798    58    1  33.100         0       0       1\n",
            "792    22    1  23.180         0       0       4\n",
            "201    48    1  32.230         1       0       2\n",
            "...   ...  ...     ...       ...     ...     ...\n",
            "466    60    1  28.700         1       0       1\n",
            "299    48    1  28.880         1       0       3\n",
            "493    61    0  43.400         0       0       1\n",
            "527    51    1  25.800         1       0       1\n",
            "1192   58    1  32.395         1       0       4\n",
            "\n",
            "[1070 rows x 6 columns]\n",
            "-----------\n"
          ],
          "name": "stdout"
        }
      ]
    },
    {
      "cell_type": "code",
      "metadata": {
        "id": "QywAnNqFNhD3",
        "colab_type": "code",
        "colab": {
          "base_uri": "https://localhost:8080/",
          "height": 1000
        },
        "outputId": "7bde3dd2-f9ef-4fe9-9e3f-d7890b840464"
      },
      "source": [
        "model.fit(X_train,y_train,epochs = 100)\n",
        "#y_pred=model.predict(X_test)\n",
        "y_pred=model.predict(X_test)"
      ],
      "execution_count": null,
      "outputs": [
        {
          "output_type": "stream",
          "text": [
            "Epoch 1/100\n",
            "34/34 [==============================] - 0s 1ms/step - loss: 0.0000e+00 - accuracy: 0.0000e+00\n",
            "Epoch 2/100\n",
            "34/34 [==============================] - 0s 1ms/step - loss: 0.0000e+00 - accuracy: 0.0000e+00\n",
            "Epoch 3/100\n",
            "34/34 [==============================] - 0s 972us/step - loss: 0.0000e+00 - accuracy: 0.0000e+00\n",
            "Epoch 4/100\n",
            "34/34 [==============================] - 0s 1ms/step - loss: 0.0000e+00 - accuracy: 0.0000e+00\n",
            "Epoch 5/100\n",
            "34/34 [==============================] - 0s 1ms/step - loss: 0.0000e+00 - accuracy: 0.0000e+00\n",
            "Epoch 6/100\n",
            "34/34 [==============================] - 0s 978us/step - loss: 0.0000e+00 - accuracy: 0.0000e+00\n",
            "Epoch 7/100\n",
            "34/34 [==============================] - 0s 1ms/step - loss: 0.0000e+00 - accuracy: 0.0000e+00\n",
            "Epoch 8/100\n",
            "34/34 [==============================] - 0s 972us/step - loss: 0.0000e+00 - accuracy: 0.0000e+00\n",
            "Epoch 9/100\n",
            "34/34 [==============================] - 0s 976us/step - loss: 0.0000e+00 - accuracy: 0.0000e+00\n",
            "Epoch 10/100\n",
            "34/34 [==============================] - 0s 1ms/step - loss: 0.0000e+00 - accuracy: 0.0000e+00\n",
            "Epoch 11/100\n",
            "34/34 [==============================] - 0s 954us/step - loss: 0.0000e+00 - accuracy: 0.0000e+00\n",
            "Epoch 12/100\n",
            "34/34 [==============================] - 0s 959us/step - loss: 0.0000e+00 - accuracy: 0.0000e+00\n",
            "Epoch 13/100\n",
            "34/34 [==============================] - 0s 983us/step - loss: 0.0000e+00 - accuracy: 0.0000e+00\n",
            "Epoch 14/100\n",
            "34/34 [==============================] - 0s 959us/step - loss: 0.0000e+00 - accuracy: 0.0000e+00\n",
            "Epoch 15/100\n",
            "34/34 [==============================] - 0s 1ms/step - loss: 0.0000e+00 - accuracy: 0.0000e+00\n",
            "Epoch 16/100\n",
            "34/34 [==============================] - 0s 1ms/step - loss: 0.0000e+00 - accuracy: 0.0000e+00\n",
            "Epoch 17/100\n",
            "34/34 [==============================] - 0s 965us/step - loss: 0.0000e+00 - accuracy: 0.0000e+00\n",
            "Epoch 18/100\n",
            "34/34 [==============================] - 0s 993us/step - loss: 0.0000e+00 - accuracy: 0.0000e+00\n",
            "Epoch 19/100\n",
            "34/34 [==============================] - 0s 1ms/step - loss: 0.0000e+00 - accuracy: 0.0000e+00\n",
            "Epoch 20/100\n",
            "34/34 [==============================] - 0s 1ms/step - loss: 0.0000e+00 - accuracy: 0.0000e+00\n",
            "Epoch 21/100\n",
            "34/34 [==============================] - 0s 960us/step - loss: 0.0000e+00 - accuracy: 0.0000e+00\n",
            "Epoch 22/100\n",
            "34/34 [==============================] - 0s 1ms/step - loss: 0.0000e+00 - accuracy: 0.0000e+00\n",
            "Epoch 23/100\n",
            "34/34 [==============================] - 0s 998us/step - loss: 0.0000e+00 - accuracy: 0.0000e+00\n",
            "Epoch 24/100\n",
            "34/34 [==============================] - 0s 978us/step - loss: 0.0000e+00 - accuracy: 0.0000e+00\n",
            "Epoch 25/100\n",
            "34/34 [==============================] - 0s 945us/step - loss: 0.0000e+00 - accuracy: 0.0000e+00\n",
            "Epoch 26/100\n",
            "34/34 [==============================] - 0s 1ms/step - loss: 0.0000e+00 - accuracy: 0.0000e+00\n",
            "Epoch 27/100\n",
            "34/34 [==============================] - 0s 1ms/step - loss: 0.0000e+00 - accuracy: 0.0000e+00\n",
            "Epoch 28/100\n",
            "34/34 [==============================] - 0s 1ms/step - loss: 0.0000e+00 - accuracy: 0.0000e+00\n",
            "Epoch 29/100\n",
            "34/34 [==============================] - 0s 977us/step - loss: 0.0000e+00 - accuracy: 0.0000e+00\n",
            "Epoch 30/100\n",
            "34/34 [==============================] - 0s 1ms/step - loss: 0.0000e+00 - accuracy: 0.0000e+00\n",
            "Epoch 31/100\n",
            "34/34 [==============================] - 0s 998us/step - loss: 0.0000e+00 - accuracy: 0.0000e+00\n",
            "Epoch 32/100\n",
            "34/34 [==============================] - 0s 1ms/step - loss: 0.0000e+00 - accuracy: 0.0000e+00\n",
            "Epoch 33/100\n",
            "34/34 [==============================] - 0s 970us/step - loss: 0.0000e+00 - accuracy: 0.0000e+00\n",
            "Epoch 34/100\n",
            "34/34 [==============================] - 0s 985us/step - loss: 0.0000e+00 - accuracy: 0.0000e+00\n",
            "Epoch 35/100\n",
            "34/34 [==============================] - 0s 1ms/step - loss: 0.0000e+00 - accuracy: 0.0000e+00\n",
            "Epoch 36/100\n",
            "34/34 [==============================] - 0s 1ms/step - loss: 0.0000e+00 - accuracy: 0.0000e+00\n",
            "Epoch 37/100\n",
            "34/34 [==============================] - 0s 1ms/step - loss: 0.0000e+00 - accuracy: 0.0000e+00\n",
            "Epoch 38/100\n",
            "34/34 [==============================] - 0s 1ms/step - loss: 0.0000e+00 - accuracy: 0.0000e+00\n",
            "Epoch 39/100\n",
            "34/34 [==============================] - 0s 996us/step - loss: 0.0000e+00 - accuracy: 0.0000e+00\n",
            "Epoch 40/100\n",
            "34/34 [==============================] - 0s 970us/step - loss: 0.0000e+00 - accuracy: 0.0000e+00\n",
            "Epoch 41/100\n",
            "34/34 [==============================] - 0s 1ms/step - loss: 0.0000e+00 - accuracy: 0.0000e+00\n",
            "Epoch 42/100\n",
            "34/34 [==============================] - 0s 1ms/step - loss: 0.0000e+00 - accuracy: 0.0000e+00\n",
            "Epoch 43/100\n",
            "34/34 [==============================] - 0s 1ms/step - loss: 0.0000e+00 - accuracy: 0.0000e+00\n",
            "Epoch 44/100\n",
            "34/34 [==============================] - 0s 979us/step - loss: 0.0000e+00 - accuracy: 0.0000e+00\n",
            "Epoch 45/100\n",
            "34/34 [==============================] - 0s 998us/step - loss: 0.0000e+00 - accuracy: 0.0000e+00\n",
            "Epoch 46/100\n",
            "34/34 [==============================] - 0s 958us/step - loss: 0.0000e+00 - accuracy: 0.0000e+00\n",
            "Epoch 47/100\n",
            "34/34 [==============================] - 0s 1ms/step - loss: 0.0000e+00 - accuracy: 0.0000e+00\n",
            "Epoch 48/100\n",
            "34/34 [==============================] - 0s 1ms/step - loss: 0.0000e+00 - accuracy: 0.0000e+00\n",
            "Epoch 49/100\n",
            "34/34 [==============================] - 0s 1ms/step - loss: 0.0000e+00 - accuracy: 0.0000e+00\n",
            "Epoch 50/100\n",
            "34/34 [==============================] - 0s 1ms/step - loss: 0.0000e+00 - accuracy: 0.0000e+00\n",
            "Epoch 51/100\n",
            "34/34 [==============================] - 0s 1ms/step - loss: 0.0000e+00 - accuracy: 0.0000e+00\n",
            "Epoch 52/100\n",
            "34/34 [==============================] - 0s 1ms/step - loss: 0.0000e+00 - accuracy: 0.0000e+00\n",
            "Epoch 53/100\n",
            "34/34 [==============================] - 0s 986us/step - loss: 0.0000e+00 - accuracy: 0.0000e+00\n",
            "Epoch 54/100\n",
            "34/34 [==============================] - 0s 956us/step - loss: 0.0000e+00 - accuracy: 0.0000e+00\n",
            "Epoch 55/100\n",
            "34/34 [==============================] - 0s 1ms/step - loss: 0.0000e+00 - accuracy: 0.0000e+00\n",
            "Epoch 56/100\n",
            "34/34 [==============================] - 0s 970us/step - loss: 0.0000e+00 - accuracy: 0.0000e+00\n",
            "Epoch 57/100\n",
            "34/34 [==============================] - 0s 992us/step - loss: 0.0000e+00 - accuracy: 0.0000e+00\n",
            "Epoch 58/100\n",
            "34/34 [==============================] - 0s 1ms/step - loss: 0.0000e+00 - accuracy: 0.0000e+00\n",
            "Epoch 59/100\n",
            "34/34 [==============================] - 0s 1ms/step - loss: 0.0000e+00 - accuracy: 0.0000e+00\n",
            "Epoch 60/100\n",
            "34/34 [==============================] - 0s 1ms/step - loss: 0.0000e+00 - accuracy: 0.0000e+00\n",
            "Epoch 61/100\n",
            "34/34 [==============================] - 0s 966us/step - loss: 0.0000e+00 - accuracy: 0.0000e+00\n",
            "Epoch 62/100\n",
            "34/34 [==============================] - 0s 1ms/step - loss: 0.0000e+00 - accuracy: 0.0000e+00\n",
            "Epoch 63/100\n",
            "34/34 [==============================] - 0s 1ms/step - loss: 0.0000e+00 - accuracy: 0.0000e+00\n",
            "Epoch 64/100\n",
            "34/34 [==============================] - 0s 1ms/step - loss: 0.0000e+00 - accuracy: 0.0000e+00\n",
            "Epoch 65/100\n",
            "34/34 [==============================] - 0s 996us/step - loss: 0.0000e+00 - accuracy: 0.0000e+00\n",
            "Epoch 66/100\n",
            "34/34 [==============================] - 0s 938us/step - loss: 0.0000e+00 - accuracy: 0.0000e+00\n",
            "Epoch 67/100\n",
            "34/34 [==============================] - 0s 1ms/step - loss: 0.0000e+00 - accuracy: 0.0000e+00\n",
            "Epoch 68/100\n",
            "34/34 [==============================] - 0s 984us/step - loss: 0.0000e+00 - accuracy: 0.0000e+00\n",
            "Epoch 69/100\n",
            "34/34 [==============================] - 0s 1ms/step - loss: 0.0000e+00 - accuracy: 0.0000e+00\n",
            "Epoch 70/100\n",
            "34/34 [==============================] - 0s 1ms/step - loss: 0.0000e+00 - accuracy: 0.0000e+00\n",
            "Epoch 71/100\n",
            "34/34 [==============================] - 0s 1ms/step - loss: 0.0000e+00 - accuracy: 0.0000e+00\n",
            "Epoch 72/100\n",
            "34/34 [==============================] - 0s 999us/step - loss: 0.0000e+00 - accuracy: 0.0000e+00\n",
            "Epoch 73/100\n",
            "34/34 [==============================] - 0s 1ms/step - loss: 0.0000e+00 - accuracy: 0.0000e+00\n",
            "Epoch 74/100\n",
            "34/34 [==============================] - 0s 1ms/step - loss: 0.0000e+00 - accuracy: 0.0000e+00\n",
            "Epoch 75/100\n",
            "34/34 [==============================] - 0s 1ms/step - loss: 0.0000e+00 - accuracy: 0.0000e+00\n",
            "Epoch 76/100\n",
            "34/34 [==============================] - 0s 1ms/step - loss: 0.0000e+00 - accuracy: 0.0000e+00\n",
            "Epoch 77/100\n",
            "34/34 [==============================] - 0s 1ms/step - loss: 0.0000e+00 - accuracy: 0.0000e+00\n",
            "Epoch 78/100\n",
            "34/34 [==============================] - 0s 993us/step - loss: 0.0000e+00 - accuracy: 0.0000e+00\n",
            "Epoch 79/100\n",
            "34/34 [==============================] - 0s 1ms/step - loss: 0.0000e+00 - accuracy: 0.0000e+00\n",
            "Epoch 80/100\n",
            "34/34 [==============================] - 0s 925us/step - loss: 0.0000e+00 - accuracy: 0.0000e+00\n",
            "Epoch 81/100\n",
            "34/34 [==============================] - 0s 967us/step - loss: 0.0000e+00 - accuracy: 0.0000e+00\n",
            "Epoch 82/100\n",
            "34/34 [==============================] - 0s 979us/step - loss: 0.0000e+00 - accuracy: 0.0000e+00\n",
            "Epoch 83/100\n",
            "34/34 [==============================] - 0s 965us/step - loss: 0.0000e+00 - accuracy: 0.0000e+00\n",
            "Epoch 84/100\n",
            "34/34 [==============================] - 0s 976us/step - loss: 0.0000e+00 - accuracy: 0.0000e+00\n",
            "Epoch 85/100\n",
            "34/34 [==============================] - 0s 1ms/step - loss: 0.0000e+00 - accuracy: 0.0000e+00\n",
            "Epoch 86/100\n",
            "34/34 [==============================] - 0s 981us/step - loss: 0.0000e+00 - accuracy: 0.0000e+00\n",
            "Epoch 87/100\n",
            "34/34 [==============================] - 0s 1ms/step - loss: 0.0000e+00 - accuracy: 0.0000e+00\n",
            "Epoch 88/100\n",
            "34/34 [==============================] - 0s 986us/step - loss: 0.0000e+00 - accuracy: 0.0000e+00\n",
            "Epoch 89/100\n",
            "34/34 [==============================] - 0s 952us/step - loss: 0.0000e+00 - accuracy: 0.0000e+00\n",
            "Epoch 90/100\n",
            "34/34 [==============================] - 0s 1ms/step - loss: 0.0000e+00 - accuracy: 0.0000e+00\n",
            "Epoch 91/100\n",
            "34/34 [==============================] - 0s 1ms/step - loss: 0.0000e+00 - accuracy: 0.0000e+00\n",
            "Epoch 92/100\n",
            "34/34 [==============================] - 0s 1ms/step - loss: 0.0000e+00 - accuracy: 0.0000e+00\n",
            "Epoch 93/100\n",
            "34/34 [==============================] - 0s 998us/step - loss: 0.0000e+00 - accuracy: 0.0000e+00\n",
            "Epoch 94/100\n",
            "34/34 [==============================] - 0s 1ms/step - loss: 0.0000e+00 - accuracy: 0.0000e+00\n",
            "Epoch 95/100\n",
            "34/34 [==============================] - 0s 972us/step - loss: 0.0000e+00 - accuracy: 0.0000e+00\n",
            "Epoch 96/100\n",
            "34/34 [==============================] - 0s 976us/step - loss: 0.0000e+00 - accuracy: 0.0000e+00\n",
            "Epoch 97/100\n",
            "34/34 [==============================] - 0s 961us/step - loss: 0.0000e+00 - accuracy: 0.0000e+00\n",
            "Epoch 98/100\n",
            "34/34 [==============================] - 0s 993us/step - loss: 0.0000e+00 - accuracy: 0.0000e+00\n",
            "Epoch 99/100\n",
            "34/34 [==============================] - 0s 969us/step - loss: 0.0000e+00 - accuracy: 0.0000e+00\n",
            "Epoch 100/100\n",
            "34/34 [==============================] - 0s 1ms/step - loss: 0.0000e+00 - accuracy: 0.0000e+00\n"
          ],
          "name": "stdout"
        }
      ]
    },
    {
      "cell_type": "code",
      "metadata": {
        "id": "TKcBwc4YXQ8T",
        "colab_type": "code",
        "colab": {}
      },
      "source": [
        ""
      ],
      "execution_count": null,
      "outputs": []
    }
  ]
}